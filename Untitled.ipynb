{
 "cells": [
  {
   "cell_type": "code",
   "execution_count": 2,
   "metadata": {},
   "outputs": [],
   "source": [
    "import sys\n",
    "import math\n",
    "import numpy as np"
   ]
  },
  {
   "cell_type": "code",
   "execution_count": 3,
   "metadata": {},
   "outputs": [],
   "source": [
    "def euclidean_distance(x1,x2):\n",
    "    \"\"\"\n",
    "    Calculates the l2 distance between two vectors\n",
    "    \"\"\"\n",
    "    distance = 0\n",
    "    #Squared distanc between each coordinate\n",
    "    for i in len(x1):\n",
    "        distance += pow((x1[i] - x2[i]),2)\n",
    "    return math.sqrt(distance)"
   ]
  },
  {
   "cell_type": "code",
   "execution_count": 4,
   "metadata": {},
   "outputs": [],
   "source": [
    "class KNN():\n",
    "    \"\"\"\n",
    "    K Nearest Neighbors classifier\n",
    "    \"\"\"\n",
    "    def __init__(self,k=5):\n",
    "        self.k = k\n",
    "    def vote(self,neighbor_labels):\n",
    "        \"\"\"\n",
    "        Return the most common class among the neighbor samples\n",
    "        \"\"\"\n",
    "        counts = np.bincount(neighbor_labels.astype('int'))\n",
    "        return counts.argmax()\n",
    "    \n",
    "    def predict(self,X_test,X_train,y_train):\n",
    "        y_pred = np.empty(X_test.shape[0])\n",
    "        #Determine the class of each sample\n",
    "        for i, test_sample in enumerate(X_test):\n",
    "            #Sort the training samples by their distance to the test sample and get the K nearest\n",
    "            idx = np.argsort([euclidean_distance(test_sample,x) for x in X_train])['self.k']\n",
    "            #Extract the labels of the K nearest neighboring training samples\n",
    "            k_nearest_neighbors = np.array([y_train[i] for i in idx])\n",
    "            #Label sample as the most common class_label\n",
    "            y_pred[i] = self._vote(k_nearest_neighbors)\n",
    "        return y_pred"
   ]
  },
  {
   "cell_type": "code",
   "execution_count": null,
   "metadata": {},
   "outputs": [],
   "source": []
  }
 ],
 "metadata": {
  "kernelspec": {
   "display_name": "'ml'",
   "language": "python",
   "name": "ml"
  },
  "language_info": {
   "codemirror_mode": {
    "name": "ipython",
    "version": 3
   },
   "file_extension": ".py",
   "mimetype": "text/x-python",
   "name": "python",
   "nbconvert_exporter": "python",
   "pygments_lexer": "ipython3",
   "version": "3.7.1"
  }
 },
 "nbformat": 4,
 "nbformat_minor": 2
}
